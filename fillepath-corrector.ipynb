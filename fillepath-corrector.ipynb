{
 "cells": [
  {
   "cell_type": "code",
   "execution_count": null,
   "metadata": {},
   "outputs": [],
   "source": [
    "import tkinter as tk\n",
    "from tkinter import filedialog\n",
    "\n",
    "def convert_path():\n",
    "    file_path = entry.get()\n",
    "    if format_var.get() == \"slash\":\n",
    "        converted = file_path.replace(\"\\\\\", \"/\")\n",
    "    else:\n",
    "        converted = file_path.replace(\"\\\\\", \"\\\\\\\\\")\n",
    "    \n",
    "    result_label.config(text=f\"Converted Path:\\n{converted}\")\n",
    "\n",
    "def browse_file():\n",
    "    file_path = filedialog.askopenfilename()\n",
    "    entry.delete(0, tk.END)\n",
    "    entry.insert(0, file_path)\n",
    "\n",
    "\n",
    "root = tk.Tk()\n",
    "root.title(\"Path Converter\")\n",
    "\n",
    "tk.Label(root, text=\"Enter or Select a File Path:\").pack(pady=5)\n",
    "entry = tk.Entry(root, width=50)\n",
    "entry.pack(pady=5)\n",
    "\n",
    "tk.Button(root, text=\"Browse\", command=browse_file).pack(pady=5)\n",
    "\n",
    "\n",
    "format_var = tk.StringVar(value=\"slash\")\n",
    "tk.Radiobutton(root, text=\"Convert to '/' format\", variable=format_var, value=\"slash\").pack()\n",
    "tk.Radiobutton(root, text=\"Convert to r'\\\\\\\\' format\", variable=format_var, value=\"double_backslash\").pack()\n",
    "\n",
    "tk.Button(root, text=\"Convert\", command=convert_path).pack(pady=5)\n",
    "result_label = tk.Label(root, text=\"\")\n",
    "result_label.pack(pady=5)\n",
    "\n",
    "root.mainloop()\n"
   ]
  }
 ],
 "metadata": {
  "kernelspec": {
   "display_name": "Python 3",
   "language": "python",
   "name": "python3"
  },
  "language_info": {
   "codemirror_mode": {
    "name": "ipython",
    "version": 3
   },
   "file_extension": ".py",
   "mimetype": "text/x-python",
   "name": "python",
   "nbconvert_exporter": "python",
   "pygments_lexer": "ipython3",
   "version": "3.11.5"
  }
 },
 "nbformat": 4,
 "nbformat_minor": 2
}
